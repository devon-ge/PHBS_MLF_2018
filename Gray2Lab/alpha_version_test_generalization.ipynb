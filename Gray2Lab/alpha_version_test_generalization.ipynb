{
 "cells": [
  {
   "cell_type": "code",
   "execution_count": 1,
   "metadata": {},
   "outputs": [
    {
     "name": "stderr",
     "output_type": "stream",
     "text": [
      "Using TensorFlow backend.\n"
     ]
    }
   ],
   "source": [
    "from keras.layers import Conv2D, UpSampling2D, InputLayer, Conv2DTranspose\n",
    "from keras.layers import Activation, Dense, Dropout, Flatten\n",
    "from keras.layers.normalization import BatchNormalization\n",
    "from keras.models import Sequential\n",
    "from keras.utils import multi_gpu_model\n",
    "from keras.preprocessing.image import ImageDataGenerator, array_to_img, img_to_array, load_img\n",
    "from skimage.color import rgb2lab, lab2rgb, rgb2gray, xyz2lab\n",
    "import matplotlib.pyplot as plt # plt 用于显示图片\n",
    "import matplotlib.image as mpimg # mpimg 用于读取图片 \n",
    "from skimage.io import imsave\n",
    "import numpy as np\n",
    "import os\n",
    "import random\n",
    "\n",
    "import tensorflow as tf\n",
    "from PIL import Image #读取图像处理代码\n",
    "import os.path\n",
    "import glob"
   ]
  },
  {
   "cell_type": "code",
   "execution_count": 8,
   "metadata": {},
   "outputs": [],
   "source": [
    "\n",
    "def convertjpg(jpgfile,outdir,width=256,height=256):\n",
    "    img=Image.open(jpgfile)\n",
    "    try:\n",
    "        new_img=img.resize((width,height),Image.BILINEAR)   \n",
    "        new_img.save(os.path.join(outdir,os.path.basename(jpgfile)))\n",
    "    except Exception as e:\n",
    "        print(e)\n",
    "for jpgfile in glob.glob(\"../images/full/*.jpg\"):\n",
    "    convertjpg(jpgfile,\"../images/full1/\")\n",
    "for jpgfile in glob.glob(\"../images/test/*.jpg\"):\n",
    "    convertjpg(jpgfile,\"../images/test1/\")"
   ]
  },
  {
   "cell_type": "code",
   "execution_count": 12,
   "metadata": {},
   "outputs": [],
   "source": [
    "# Get images\n",
    "X = []\n",
    "for filename in os.listdir('../images/grouped/train_0/'):\n",
    "    X.append(img_to_array(load_img('../images/grouped/train_0/'+filename)))\n",
    "image = np.array(X, dtype=float)\n",
    "image = np.array(image, dtype=float)"
   ]
  },
  {
   "cell_type": "code",
   "execution_count": 13,
   "metadata": {},
   "outputs": [
    {
     "data": {
      "text/plain": [
       "(80, 256, 256, 3)"
      ]
     },
     "execution_count": 13,
     "metadata": {},
     "output_type": "execute_result"
    }
   ],
   "source": [
    "image.shape"
   ]
  },
  {
   "cell_type": "code",
   "execution_count": 14,
   "metadata": {},
   "outputs": [],
   "source": [
    "X = rgb2lab(1.0/255*image)[:,:,:,0]\n",
    "Y = rgb2lab(1.0/255*image)[:,:,:,1:]\n",
    "Y /= 128\n",
    "X = X.reshape(image.shape[0], 256, 256, 1)\n",
    "Y = Y.reshape(image.shape[0], 256, 256, 2)"
   ]
  },
  {
   "cell_type": "code",
   "execution_count": 15,
   "metadata": {},
   "outputs": [],
   "source": [
    "# Building the neural network\n",
    "model = Sequential()\n",
    "model.add(InputLayer(input_shape=(None, None, 1)))\n",
    "model.add(Conv2D(8, (3, 3), activation='relu', padding='same', strides=2))\n",
    "model.add(Conv2D(8, (3, 3), activation='relu', padding='same'))\n",
    "model.add(Conv2D(16, (3, 3), activation='relu', padding='same'))\n",
    "model.add(Conv2D(16, (3, 3), activation='relu', padding='same', strides=2))\n",
    "model.add(Conv2D(32, (3, 3), activation='relu', padding='same'))\n",
    "model.add(Conv2D(32, (3, 3), activation='relu', padding='same', strides=2))\n",
    "model.add(UpSampling2D((2, 2)))\n",
    "model.add(Conv2D(32, (3, 3), activation='relu', padding='same'))\n",
    "model.add(UpSampling2D((2, 2)))\n",
    "model.add(Conv2D(16, (3, 3), activation='relu', padding='same'))\n",
    "model.add(UpSampling2D((2, 2)))\n",
    "model.add(Conv2D(2, (3, 3), activation='tanh', padding='same'))"
   ]
  },
  {
   "cell_type": "code",
   "execution_count": 16,
   "metadata": {},
   "outputs": [],
   "source": [
    "# Finish model\n",
    "model.compile(optimizer='rmsprop',\n",
    "\t\t\tloss='mse')"
   ]
  },
  {
   "cell_type": "code",
   "execution_count": null,
   "metadata": {
    "scrolled": false
   },
   "outputs": [],
   "source": []
  },
  {
   "cell_type": "code",
   "execution_count": 17,
   "metadata": {
    "scrolled": true
   },
   "outputs": [
    {
     "name": "stdout",
     "output_type": "stream",
     "text": [
      "Train on 60 samples, validate on 20 samples\n",
      "Epoch 1/20\n",
      "60/60 [==============================] - 17s 281ms/step - loss: 0.1388 - val_loss: 0.0314\n",
      "Epoch 2/20\n",
      "60/60 [==============================] - 14s 226ms/step - loss: 0.0378 - val_loss: 0.0328\n",
      "Epoch 3/20\n",
      "60/60 [==============================] - 15s 246ms/step - loss: 0.0361 - val_loss: 0.0303\n",
      "Epoch 4/20\n",
      "60/60 [==============================] - 16s 267ms/step - loss: 0.0354 - val_loss: 0.0426\n",
      "Epoch 5/20\n",
      "60/60 [==============================] - 17s 286ms/step - loss: 0.0399 - val_loss: 0.0318\n",
      "Epoch 6/20\n",
      "60/60 [==============================] - 16s 260ms/step - loss: 0.0364 - val_loss: 0.0304\n",
      "Epoch 7/20\n",
      "60/60 [==============================] - 16s 264ms/step - loss: 0.0349 - val_loss: 0.0329\n",
      "Epoch 8/20\n",
      "60/60 [==============================] - 15s 257ms/step - loss: 0.0360 - val_loss: 0.0298\n",
      "Epoch 9/20\n",
      "60/60 [==============================] - 17s 281ms/step - loss: 0.0363 - val_loss: 0.0790\n",
      "Epoch 10/20\n",
      "60/60 [==============================] - 17s 288ms/step - loss: 0.0386 - val_loss: 0.0297\n",
      "Epoch 11/20\n",
      "60/60 [==============================] - 16s 272ms/step - loss: 0.0357 - val_loss: 0.0297\n",
      "Epoch 12/20\n",
      "60/60 [==============================] - 17s 279ms/step - loss: 0.0342 - val_loss: 0.0346\n",
      "Epoch 13/20\n",
      "60/60 [==============================] - 16s 268ms/step - loss: 0.0359 - val_loss: 0.0296\n",
      "Epoch 14/20\n",
      "60/60 [==============================] - 15s 258ms/step - loss: 0.0342 - val_loss: 0.0299\n",
      "Epoch 15/20\n",
      "60/60 [==============================] - 16s 260ms/step - loss: 0.0333 - val_loss: 0.0304\n",
      "Epoch 16/20\n",
      "60/60 [==============================] - 16s 263ms/step - loss: 0.0337 - val_loss: 0.0286\n",
      "Epoch 17/20\n",
      "60/60 [==============================] - 16s 262ms/step - loss: 0.0337 - val_loss: 0.0356\n",
      "Epoch 18/20\n",
      "60/60 [==============================] - 15s 257ms/step - loss: 0.0339 - val_loss: 0.0302\n",
      "Epoch 19/20\n",
      "60/60 [==============================] - 19s 311ms/step - loss: 0.0336 - val_loss: 0.0289\n",
      "Epoch 20/20\n",
      "60/60 [==============================] - 19s 316ms/step - loss: 0.0339 - val_loss: 0.0296\n"
     ]
    }
   ],
   "source": [
    "history = model.fit(x=X, \n",
    "\ty=Y,\n",
    "\tbatch_size=5,\n",
    "\tepochs=20,validation_split=0.25)"
   ]
  },
  {
   "cell_type": "code",
   "execution_count": 18,
   "metadata": {},
   "outputs": [
    {
     "data": {
      "text/plain": [
       "[<matplotlib.lines.Line2D at 0x1fb006aa860>]"
      ]
     },
     "execution_count": 18,
     "metadata": {},
     "output_type": "execute_result"
    },
    {
     "data": {
      "image/png": "[encoded data removed]",
      "text/plain": [
       "<Figure size 432x288 with 1 Axes>"
      ]
     },
     "metadata": {
      "needs_background": "light"
     },
     "output_type": "display_data"
    }
   ],
   "source": [
    "losses = history.history\n",
    "loss = losses['loss']\n",
    "epoch = np.arange(1, len(loss)+1, 1)\n",
    "plt.plot(epoch, loss)"
   ]
  },
  {
   "cell_type": "code",
   "execution_count": null,
   "metadata": {},
   "outputs": [],
   "source": []
  },
  {
   "cell_type": "code",
   "execution_count": 23,
   "metadata": {},
   "outputs": [
    {
     "name": "stderr",
     "output_type": "stream",
     "text": [
      "d:\\python\\lib\\site-packages\\skimage\\util\\dtype.py:141: UserWarning: Possible precision loss when converting from float64 to uint8\n",
      "  .format(dtypeobj_in, dtypeobj_out))\n",
      "d:\\python\\lib\\site-packages\\skimage\\color\\colorconv.py:993: UserWarning: Color data out of range: Z < 0 in 15 pixels\n",
      "  warn('Color data out of range: Z < 0 in %s pixels' % invalid[0].size)\n"
     ]
    }
   ],
   "source": [
    "color_me = []\n",
    "for filename in os.listdir('../images/test1/'):\n",
    "    color_me.append(img_to_array(load_img('../images/test1/'+filename)))\n",
    "color_me = np.array(color_me, dtype=float)\n",
    "color_me = rgb2lab(1.0/255*color_me)[:,:,:,0]\n",
    "color_me = color_me.reshape(color_me.shape+(1,))\n",
    "\n",
    "# Test model\n",
    "output = model.predict(color_me)\n",
    "output = output * 128\n",
    "\n",
    "# Output colorizations\n",
    "for i in range(len(output)):\n",
    "    cur = np.zeros((256, 256, 3))\n",
    "    cur[:,:,0] = color_me[i][:,:,0]\n",
    "    cur[:,:,1:] = output[i]\n",
    "    imsave(\"result/img_\"+str(i)+\".png\", lab2rgb(cur))\n",
    "\n"
   ]
  },
  {
   "cell_type": "code",
   "execution_count": null,
   "metadata": {},
   "outputs": [],
   "source": []
  }
 ],
 "metadata": {
  "kernelspec": {
   "display_name": "Python 3",
   "language": "python",
   "name": "python3"
  },
  "language_info": {
   "codemirror_mode": {
    "name": "ipython",
    "version": 3
   },
   "file_extension": ".py",
   "mimetype": "text/x-python",
   "name": "python",
   "nbconvert_exporter": "python",
   "pygments_lexer": "ipython3",
   "version": "3.7.1"
  }
 },
 "nbformat": 4,
 "nbformat_minor": 2
}
