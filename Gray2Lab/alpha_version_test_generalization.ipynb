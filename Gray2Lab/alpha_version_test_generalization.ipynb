{
 "cells": [
  {
   "cell_type": "code",
   "execution_count": null,
   "metadata": {},
   "outputs": [
    {
     "name": "stderr",
     "output_type": "stream",
     "text": [
      "C:\\Users\\zhangmy3\\AppData\\Local\\Continuum\\anaconda3\\lib\\site-packages\\h5py\\__init__.py:36: FutureWarning: Conversion of the second argument of issubdtype from `float` to `np.floating` is deprecated. In future, it will be treated as `np.float64 == np.dtype(float).type`.\n",
      "  from ._conv import register_converters as _register_converters\n",
      "Using TensorFlow backend.\n"
     ]
    }
   ],
   "source": [
    "from keras.layers import Conv2D, UpSampling2D, InputLayer, Conv2DTranspose\n",
    "from keras.layers import Activation, Dense, Dropout, Flatten\n",
    "from keras.layers.normalization import BatchNormalization\n",
    "from keras.models import Sequential\n",
    "from keras.utils import multi_gpu_model\n",
    "from keras.preprocessing.image import ImageDataGenerator, array_to_img, img_to_array, load_img\n",
    "from skimage.color import rgb2lab, lab2rgb, rgb2gray, xyz2lab\n",
    "import numpy as np\n",
    "import os\n",
    "import random\n",
    "import tensorflow as tf\n",
    "from PIL import Image #读取图像处理代码\n",
    "import os.path\n",
    "import glob"
   ]
  },
  {
   "cell_type": "code",
   "execution_count": 2,
   "metadata": {},
   "outputs": [],
   "source": [
    "\n",
    "def convertjpg(jpgfile,outdir,width=256,height=256):\n",
    "    img=Image.open(jpgfile)\n",
    "    try:\n",
    "        new_img=img.resize((width,height),Image.BILINEAR)   \n",
    "        new_img.save(os.path.join(outdir,os.path.basename(jpgfile)))\n",
    "    except Exception as e:\n",
    "        print(e)\n",
    "for jpgfile in glob.glob(\"../images/full/*.jpg\"):\n",
    "    convertjpg(jpgfile,\"../images/full1/\")\n"
   ]
  },
  {
   "cell_type": "code",
   "execution_count": 3,
   "metadata": {},
   "outputs": [],
   "source": [
    "# Get images\n",
    "X = []\n",
    "for filename in os.listdir('../images/full1/'):\n",
    "    X.append(img_to_array(load_img('../images/full1/'+filename)))\n",
    "image = np.array(X, dtype=float)\n",
    "image = np.array(image, dtype=float)"
   ]
  },
  {
   "cell_type": "code",
   "execution_count": 43,
   "metadata": {},
   "outputs": [
    {
     "data": {
      "text/plain": [
       "(360, 256, 256, 3)"
      ]
     },
     "execution_count": 43,
     "metadata": {},
     "output_type": "execute_result"
    }
   ],
   "source": []
  },
  {
   "cell_type": "code",
   "execution_count": 5,
   "metadata": {},
   "outputs": [],
   "source": [
    "X = rgb2lab(1.0/255*image)[:,:,:,0]\n",
    "Y = rgb2lab(1.0/255*image)[:,:,:,1:]\n",
    "Y /= 128\n",
    "X = X.reshape(110, 256, 256, 1)\n",
    "Y = Y.reshape(110, 256, 256, 2)"
   ]
  },
  {
   "cell_type": "code",
   "execution_count": 6,
   "metadata": {},
   "outputs": [],
   "source": [
    "# Building the neural network\n",
    "model = Sequential()\n",
    "model.add(InputLayer(input_shape=(None, None, 1)))\n",
    "model.add(Conv2D(8, (3, 3), activation='relu', padding='same', strides=2))\n",
    "model.add(Conv2D(8, (3, 3), activation='relu', padding='same'))\n",
    "model.add(Conv2D(16, (3, 3), activation='relu', padding='same'))\n",
    "model.add(Conv2D(16, (3, 3), activation='relu', padding='same', strides=2))\n",
    "model.add(Conv2D(32, (3, 3), activation='relu', padding='same'))\n",
    "model.add(Conv2D(32, (3, 3), activation='relu', padding='same', strides=2))\n",
    "model.add(UpSampling2D((2, 2)))\n",
    "model.add(Conv2D(32, (3, 3), activation='relu', padding='same'))\n",
    "model.add(UpSampling2D((2, 2)))\n",
    "model.add(Conv2D(16, (3, 3), activation='relu', padding='same'))\n",
    "model.add(UpSampling2D((2, 2)))\n",
    "model.add(Conv2D(2, (3, 3), activation='tanh', padding='same'))"
   ]
  },
  {
   "cell_type": "code",
   "execution_count": 7,
   "metadata": {},
   "outputs": [],
   "source": [
    "# Finish model\n",
    "model.compile(optimizer='rmsprop',\n",
    "\t\t\tloss='mse')"
   ]
  },
  {
   "cell_type": "code",
   "execution_count": null,
   "metadata": {
    "scrolled": false
   },
   "outputs": [],
   "source": []
  },
  {
   "cell_type": "code",
   "execution_count": 8,
   "metadata": {
    "scrolled": true
   },
   "outputs": [
    {
     "name": "stdout",
     "output_type": "stream",
     "text": [
      "Epoch 1/100\n",
      "110/110 [==============================] - 19s 175ms/step - loss: 0.1715\n",
      "Epoch 2/100\n",
      "110/110 [==============================] - 18s 167ms/step - loss: 0.0411\n",
      "Epoch 3/100\n",
      "110/110 [==============================] - 18s 166ms/step - loss: 0.0395\n",
      "Epoch 4/100\n",
      "110/110 [==============================] - 19s 172ms/step - loss: 0.0385\n",
      "Epoch 5/100\n",
      "110/110 [==============================] - 19s 176ms/step - loss: 0.0378\n",
      "Epoch 6/100\n",
      "110/110 [==============================] - 18s 167ms/step - loss: 0.0374\n",
      "Epoch 7/100\n",
      "110/110 [==============================] - 19s 168ms/step - loss: 0.0371\n",
      "Epoch 8/100\n",
      "110/110 [==============================] - 19s 177ms/step - loss: 0.0369\n",
      "Epoch 9/100\n",
      "110/110 [==============================] - 18s 168ms/step - loss: 0.0368\n",
      "Epoch 10/100\n",
      "110/110 [==============================] - 19s 168ms/step - loss: 0.0368\n",
      "Epoch 11/100\n",
      "110/110 [==============================] - 19s 172ms/step - loss: 0.0367\n",
      "Epoch 12/100\n",
      "110/110 [==============================] - 21s 190ms/step - loss: 0.0367\n",
      "Epoch 13/100\n",
      "110/110 [==============================] - 21s 194ms/step - loss: 0.0367\n",
      "Epoch 14/100\n",
      "110/110 [==============================] - 21s 192ms/step - loss: 0.0367\n",
      "Epoch 15/100\n",
      "110/110 [==============================] - 20s 182ms/step - loss: 0.0367\n",
      "Epoch 16/100\n",
      "110/110 [==============================] - 21s 193ms/step - loss: 0.0367\n",
      "Epoch 17/100\n",
      "110/110 [==============================] - 21s 189ms/step - loss: 0.0367\n",
      "Epoch 18/100\n",
      "110/110 [==============================] - 20s 181ms/step - loss: 0.0367\n",
      "Epoch 19/100\n",
      "110/110 [==============================] - 20s 182ms/step - loss: 0.0367\n",
      "Epoch 20/100\n",
      "110/110 [==============================] - 20s 181ms/step - loss: 0.0367\n",
      "Epoch 21/100\n",
      "110/110 [==============================] - 20s 182ms/step - loss: 0.0366\n",
      "Epoch 22/100\n",
      "110/110 [==============================] - 21s 195ms/step - loss: 0.0367\n",
      "Epoch 23/100\n",
      "110/110 [==============================] - 23s 206ms/step - loss: 0.0367\n",
      "Epoch 24/100\n",
      "110/110 [==============================] - 21s 194ms/step - loss: 0.0367\n",
      "Epoch 25/100\n",
      "110/110 [==============================] - 21s 195ms/step - loss: 0.0367\n",
      "Epoch 26/100\n",
      "110/110 [==============================] - 21s 194ms/step - loss: 0.0367\n",
      "Epoch 27/100\n",
      "110/110 [==============================] - 21s 191ms/step - loss: 0.0367\n",
      "Epoch 28/100\n",
      "110/110 [==============================] - 23s 207ms/step - loss: 0.0367\n",
      "Epoch 29/100\n",
      "110/110 [==============================] - 20s 179ms/step - loss: 0.0367\n",
      "Epoch 30/100\n",
      "110/110 [==============================] - 20s 177ms/step - loss: 0.0367\n",
      "Epoch 31/100\n",
      "110/110 [==============================] - 20s 185ms/step - loss: 0.0367\n",
      "Epoch 32/100\n",
      "110/110 [==============================] - 20s 186ms/step - loss: 0.0367\n",
      "Epoch 33/100\n",
      "110/110 [==============================] - 21s 191ms/step - loss: 0.0367\n",
      "Epoch 34/100\n",
      "110/110 [==============================] - 20s 181ms/step - loss: 0.0366\n",
      "Epoch 35/100\n",
      "110/110 [==============================] - 22s 197ms/step - loss: 0.0367\n",
      "Epoch 36/100\n",
      "110/110 [==============================] - 19s 175ms/step - loss: 0.0367\n",
      "Epoch 37/100\n",
      "110/110 [==============================] - 19s 177ms/step - loss: 0.0367\n",
      "Epoch 38/100\n",
      "110/110 [==============================] - 20s 185ms/step - loss: 0.0367\n",
      "Epoch 39/100\n",
      "110/110 [==============================] - 21s 187ms/step - loss: 0.0367\n",
      "Epoch 40/100\n",
      "110/110 [==============================] - 19s 171ms/step - loss: 0.0366\n",
      "Epoch 41/100\n",
      "110/110 [==============================] - 19s 170ms/step - loss: 0.0367\n",
      "Epoch 42/100\n",
      "110/110 [==============================] - 19s 169ms/step - loss: 0.0367\n",
      "Epoch 43/100\n",
      "110/110 [==============================] - 20s 180ms/step - loss: 0.0366\n",
      "Epoch 44/100\n",
      "110/110 [==============================] - 19s 174ms/step - loss: 0.0367\n",
      "Epoch 45/100\n",
      "110/110 [==============================] - 19s 172ms/step - loss: 0.0367\n",
      "Epoch 46/100\n",
      "110/110 [==============================] - 19s 170ms/step - loss: 0.0367\n",
      "Epoch 47/100\n",
      "110/110 [==============================] - 19s 176ms/step - loss: 0.0367\n",
      "Epoch 48/100\n",
      "110/110 [==============================] - 19s 175ms/step - loss: 0.0367\n",
      "Epoch 49/100\n",
      "110/110 [==============================] - 20s 180ms/step - loss: 0.0367\n",
      "Epoch 50/100\n",
      "110/110 [==============================] - 19s 173ms/step - loss: 0.0367\n",
      "Epoch 51/100\n",
      "110/110 [==============================] - 20s 180ms/step - loss: 0.0367\n",
      "Epoch 52/100\n",
      "110/110 [==============================] - 19s 174ms/step - loss: 0.0367\n",
      "Epoch 53/100\n",
      "110/110 [==============================] - 19s 174ms/step - loss: 0.0366\n",
      "Epoch 54/100\n",
      "110/110 [==============================] - 18s 168ms/step - loss: 0.0367\n",
      "Epoch 55/100\n",
      "110/110 [==============================] - 18s 162ms/step - loss: 0.0367\n",
      "Epoch 56/100\n",
      "110/110 [==============================] - 18s 161ms/step - loss: 0.0367\n",
      "Epoch 57/100\n",
      "110/110 [==============================] - 17s 158ms/step - loss: 0.0367\n",
      "Epoch 58/100\n",
      "110/110 [==============================] - 18s 167ms/step - loss: 0.0367\n",
      "Epoch 59/100\n",
      "110/110 [==============================] - 18s 167ms/step - loss: 0.0367\n",
      "Epoch 60/100\n",
      "110/110 [==============================] - 21s 193ms/step - loss: 0.0367\n",
      "Epoch 61/100\n",
      "110/110 [==============================] - 19s 169ms/step - loss: 0.0367\n",
      "Epoch 62/100\n",
      "110/110 [==============================] - 20s 184ms/step - loss: 0.0367\n",
      "Epoch 63/100\n",
      "110/110 [==============================] - 19s 176ms/step - loss: 0.0366\n",
      "Epoch 64/100\n",
      "110/110 [==============================] - 18s 164ms/step - loss: 0.0367\n",
      "Epoch 65/100\n",
      "110/110 [==============================] - 18s 165ms/step - loss: 0.0367\n",
      "Epoch 66/100\n",
      "110/110 [==============================] - 17s 159ms/step - loss: 0.0367\n",
      "Epoch 67/100\n",
      "110/110 [==============================] - 17s 158ms/step - loss: 0.0367\n",
      "Epoch 68/100\n",
      "110/110 [==============================] - 17s 158ms/step - loss: 0.0367\n",
      "Epoch 69/100\n",
      "110/110 [==============================] - 17s 156ms/step - loss: 0.0367\n",
      "Epoch 70/100\n",
      "110/110 [==============================] - 17s 156ms/step - loss: 0.0367\n",
      "Epoch 71/100\n",
      "110/110 [==============================] - 17s 157ms/step - loss: 0.0366\n",
      "Epoch 72/100\n",
      "110/110 [==============================] - 17s 156ms/step - loss: 0.0367\n",
      "Epoch 73/100\n",
      "110/110 [==============================] - 17s 156ms/step - loss: 0.0367\n",
      "Epoch 74/100\n",
      "110/110 [==============================] - 17s 158ms/step - loss: 0.0367\n",
      "Epoch 75/100\n",
      "110/110 [==============================] - 17s 158ms/step - loss: 0.0367\n",
      "Epoch 76/100\n",
      "110/110 [==============================] - 17s 156ms/step - loss: 0.0367\n",
      "Epoch 77/100\n",
      "110/110 [==============================] - 17s 156ms/step - loss: 0.0367\n",
      "Epoch 78/100\n",
      "110/110 [==============================] - 17s 158ms/step - loss: 0.0367\n",
      "Epoch 79/100\n",
      "110/110 [==============================] - 17s 158ms/step - loss: 0.0367\n",
      "Epoch 80/100\n",
      "110/110 [==============================] - 17s 157ms/step - loss: 0.0367\n",
      "Epoch 81/100\n",
      "110/110 [==============================] - 18s 166ms/step - loss: 0.0367\n",
      "Epoch 82/100\n",
      "110/110 [==============================] - 18s 163ms/step - loss: 0.0366\n",
      "Epoch 83/100\n",
      "110/110 [==============================] - 18s 162ms/step - loss: 0.0367\n",
      "Epoch 84/100\n",
      "110/110 [==============================] - 17s 157ms/step - loss: 0.0367\n",
      "Epoch 85/100\n",
      "110/110 [==============================] - 17s 158ms/step - loss: 0.0367\n",
      "Epoch 86/100\n",
      "110/110 [==============================] - 17s 158ms/step - loss: 0.0367\n",
      "Epoch 87/100\n",
      "110/110 [==============================] - 17s 157ms/step - loss: 0.0367\n",
      "Epoch 88/100\n",
      "110/110 [==============================] - 17s 155ms/step - loss: 0.0367\n",
      "Epoch 89/100\n",
      "110/110 [==============================] - 17s 158ms/step - loss: 0.0367\n",
      "Epoch 90/100\n",
      "110/110 [==============================] - 17s 156ms/step - loss: 0.0367\n",
      "Epoch 91/100\n",
      "110/110 [==============================] - 17s 155ms/step - loss: 0.0367\n",
      "Epoch 92/100\n",
      "110/110 [==============================] - 17s 158ms/step - loss: 0.0367\n",
      "Epoch 93/100\n",
      "110/110 [==============================] - 17s 159ms/step - loss: 0.0367\n",
      "Epoch 94/100\n",
      "110/110 [==============================] - 17s 157ms/step - loss: 0.0367\n",
      "Epoch 95/100\n",
      "110/110 [==============================] - 18s 165ms/step - loss: 0.0367\n",
      "Epoch 96/100\n",
      "110/110 [==============================] - 20s 182ms/step - loss: 0.0366\n",
      "Epoch 97/100\n",
      "110/110 [==============================] - 19s 172ms/step - loss: 0.0367\n",
      "Epoch 98/100\n",
      "110/110 [==============================] - 18s 165ms/step - loss: 0.0367\n",
      "Epoch 99/100\n",
      "110/110 [==============================] - 18s 168ms/step - loss: 0.0367\n",
      "Epoch 100/100\n",
      "110/110 [==============================] - 22s 202ms/step - loss: 0.0367\n"
     ]
    },
    {
     "data": {
      "text/plain": [
       "<keras.callbacks.History at 0x2dde63d7748>"
      ]
     },
     "execution_count": 8,
     "metadata": {},
     "output_type": "execute_result"
    }
   ],
   "source": [
    "model.fit(x=X, \n",
    "\ty=Y,\n",
    "\tbatch_size=5,\n",
    "\tepochs=100)"
   ]
  },
  {
   "cell_type": "code",
   "execution_count": 15,
   "metadata": {},
   "outputs": [
    {
     "ename": "ValueError",
     "evalue": "Error when checking input: expected input_1 to have 4 dimensions, but got array with shape (239, 300)",
     "output_type": "error",
     "traceback": [
      "\u001b[1;31m---------------------------------------------------------------------------\u001b[0m",
      "\u001b[1;31mValueError\u001b[0m                                Traceback (most recent call last)",
      "\u001b[1;32m<ipython-input-15-2bf799f2af68>\u001b[0m in \u001b[0;36m<module>\u001b[1;34m()\u001b[0m\n\u001b[1;32m----> 1\u001b[1;33m \u001b[0mprint\u001b[0m\u001b[1;33m(\u001b[0m\u001b[0mmodel\u001b[0m\u001b[1;33m.\u001b[0m\u001b[0mevaluate\u001b[0m\u001b[1;33m(\u001b[0m\u001b[0mX\u001b[0m\u001b[1;33m,\u001b[0m \u001b[0mY\u001b[0m\u001b[1;33m,\u001b[0m \u001b[0mbatch_size\u001b[0m\u001b[1;33m=\u001b[0m\u001b[1;36m1\u001b[0m\u001b[1;33m)\u001b[0m\u001b[1;33m)\u001b[0m\u001b[1;33m\u001b[0m\u001b[0m\n\u001b[0m\u001b[0;32m      2\u001b[0m \u001b[0mimage\u001b[0m \u001b[1;33m=\u001b[0m \u001b[0mimg_to_array\u001b[0m\u001b[1;33m(\u001b[0m\u001b[0mload_img\u001b[0m\u001b[1;33m(\u001b[0m\u001b[1;34m'../images/test/e8e9bbcd94ed1b011456d4560e24bdd9fef995a6.jpg'\u001b[0m\u001b[1;33m)\u001b[0m\u001b[1;33m)\u001b[0m\u001b[1;33m\u001b[0m\u001b[0m\n\u001b[0;32m      3\u001b[0m \u001b[0mimage\u001b[0m \u001b[1;33m=\u001b[0m \u001b[0mnp\u001b[0m\u001b[1;33m.\u001b[0m\u001b[0marray\u001b[0m\u001b[1;33m(\u001b[0m\u001b[0mimage\u001b[0m\u001b[1;33m,\u001b[0m \u001b[0mdtype\u001b[0m\u001b[1;33m=\u001b[0m\u001b[0mfloat\u001b[0m\u001b[1;33m)\u001b[0m\u001b[1;33m\u001b[0m\u001b[0m\n\u001b[0;32m      4\u001b[0m \u001b[0mX\u001b[0m \u001b[1;33m=\u001b[0m \u001b[0mrgb2lab\u001b[0m\u001b[1;33m(\u001b[0m\u001b[1;36m1.0\u001b[0m\u001b[1;33m/\u001b[0m\u001b[1;36m255\u001b[0m\u001b[1;33m*\u001b[0m\u001b[0mimage\u001b[0m\u001b[1;33m)\u001b[0m\u001b[1;33m[\u001b[0m\u001b[1;33m:\u001b[0m\u001b[1;33m,\u001b[0m\u001b[1;33m:\u001b[0m\u001b[1;33m,\u001b[0m\u001b[1;36m0\u001b[0m\u001b[1;33m]\u001b[0m\u001b[1;33m\u001b[0m\u001b[0m\n\u001b[0;32m      5\u001b[0m \u001b[0mX\u001b[0m \u001b[1;33m=\u001b[0m \u001b[0mX\u001b[0m\u001b[1;33m.\u001b[0m\u001b[0mreshape\u001b[0m\u001b[1;33m(\u001b[0m\u001b[1;36m1\u001b[0m\u001b[1;33m,\u001b[0m \u001b[1;36m256\u001b[0m\u001b[1;33m,\u001b[0m \u001b[1;36m256\u001b[0m\u001b[1;33m,\u001b[0m \u001b[1;36m1\u001b[0m\u001b[1;33m)\u001b[0m\u001b[1;33m\u001b[0m\u001b[0m\n",
      "\u001b[1;32m~\\AppData\\Local\\Continuum\\anaconda3\\lib\\site-packages\\keras\\engine\\training.py\u001b[0m in \u001b[0;36mevaluate\u001b[1;34m(self, x, y, batch_size, verbose, sample_weight, steps)\u001b[0m\n\u001b[0;32m   1100\u001b[0m             \u001b[0mx\u001b[0m\u001b[1;33m,\u001b[0m \u001b[0my\u001b[0m\u001b[1;33m,\u001b[0m\u001b[1;33m\u001b[0m\u001b[0m\n\u001b[0;32m   1101\u001b[0m             \u001b[0msample_weight\u001b[0m\u001b[1;33m=\u001b[0m\u001b[0msample_weight\u001b[0m\u001b[1;33m,\u001b[0m\u001b[1;33m\u001b[0m\u001b[0m\n\u001b[1;32m-> 1102\u001b[1;33m             batch_size=batch_size)\n\u001b[0m\u001b[0;32m   1103\u001b[0m         \u001b[1;31m# Prepare inputs, delegate logic to `test_loop`.\u001b[0m\u001b[1;33m\u001b[0m\u001b[1;33m\u001b[0m\u001b[0m\n\u001b[0;32m   1104\u001b[0m         \u001b[1;32mif\u001b[0m \u001b[0mself\u001b[0m\u001b[1;33m.\u001b[0m\u001b[0m_uses_dynamic_learning_phase\u001b[0m\u001b[1;33m(\u001b[0m\u001b[1;33m)\u001b[0m\u001b[1;33m:\u001b[0m\u001b[1;33m\u001b[0m\u001b[0m\n",
      "\u001b[1;32m~\\AppData\\Local\\Continuum\\anaconda3\\lib\\site-packages\\keras\\engine\\training.py\u001b[0m in \u001b[0;36m_standardize_user_data\u001b[1;34m(self, x, y, sample_weight, class_weight, check_array_lengths, batch_size)\u001b[0m\n\u001b[0;32m    749\u001b[0m             \u001b[0mfeed_input_shapes\u001b[0m\u001b[1;33m,\u001b[0m\u001b[1;33m\u001b[0m\u001b[0m\n\u001b[0;32m    750\u001b[0m             \u001b[0mcheck_batch_axis\u001b[0m\u001b[1;33m=\u001b[0m\u001b[1;32mFalse\u001b[0m\u001b[1;33m,\u001b[0m  \u001b[1;31m# Don't enforce the batch size.\u001b[0m\u001b[1;33m\u001b[0m\u001b[0m\n\u001b[1;32m--> 751\u001b[1;33m             exception_prefix='input')\n\u001b[0m\u001b[0;32m    752\u001b[0m \u001b[1;33m\u001b[0m\u001b[0m\n\u001b[0;32m    753\u001b[0m         \u001b[1;32mif\u001b[0m \u001b[0my\u001b[0m \u001b[1;32mis\u001b[0m \u001b[1;32mnot\u001b[0m \u001b[1;32mNone\u001b[0m\u001b[1;33m:\u001b[0m\u001b[1;33m\u001b[0m\u001b[0m\n",
      "\u001b[1;32m~\\AppData\\Local\\Continuum\\anaconda3\\lib\\site-packages\\keras\\engine\\training_utils.py\u001b[0m in \u001b[0;36mstandardize_input_data\u001b[1;34m(data, names, shapes, check_batch_axis, exception_prefix)\u001b[0m\n\u001b[0;32m    126\u001b[0m                         \u001b[1;34m': expected '\u001b[0m \u001b[1;33m+\u001b[0m \u001b[0mnames\u001b[0m\u001b[1;33m[\u001b[0m\u001b[0mi\u001b[0m\u001b[1;33m]\u001b[0m \u001b[1;33m+\u001b[0m \u001b[1;34m' to have '\u001b[0m \u001b[1;33m+\u001b[0m\u001b[1;33m\u001b[0m\u001b[0m\n\u001b[0;32m    127\u001b[0m                         \u001b[0mstr\u001b[0m\u001b[1;33m(\u001b[0m\u001b[0mlen\u001b[0m\u001b[1;33m(\u001b[0m\u001b[0mshape\u001b[0m\u001b[1;33m)\u001b[0m\u001b[1;33m)\u001b[0m \u001b[1;33m+\u001b[0m \u001b[1;34m' dimensions, but got array '\u001b[0m\u001b[1;33m\u001b[0m\u001b[0m\n\u001b[1;32m--> 128\u001b[1;33m                         'with shape ' + str(data_shape))\n\u001b[0m\u001b[0;32m    129\u001b[0m                 \u001b[1;32mif\u001b[0m \u001b[1;32mnot\u001b[0m \u001b[0mcheck_batch_axis\u001b[0m\u001b[1;33m:\u001b[0m\u001b[1;33m\u001b[0m\u001b[0m\n\u001b[0;32m    130\u001b[0m                     \u001b[0mdata_shape\u001b[0m \u001b[1;33m=\u001b[0m \u001b[0mdata_shape\u001b[0m\u001b[1;33m[\u001b[0m\u001b[1;36m1\u001b[0m\u001b[1;33m:\u001b[0m\u001b[1;33m]\u001b[0m\u001b[1;33m\u001b[0m\u001b[0m\n",
      "\u001b[1;31mValueError\u001b[0m: Error when checking input: expected input_1 to have 4 dimensions, but got array with shape (239, 300)"
     ]
    }
   ],
   "source": [
    "image = img_to_array(load_img('../images/test/e8e9bbcd94ed1b011456d4560e24bdd9fef995a6.jpg'))\n",
    "image = np.array(image, dtype=float)\n",
    "X = rgb2lab(1.0/255*image)[:,:,0]\n",
    "X = X.reshape(1, 256, 256, 1)\n"
   ]
  },
  {
   "cell_type": "code",
   "execution_count": null,
   "metadata": {},
   "outputs": [],
   "source": []
  },
  {
   "cell_type": "code",
   "execution_count": 8,
   "metadata": {},
   "outputs": [
    {
     "name": "stderr",
     "output_type": "stream",
     "text": [
      "C:\\Users\\zhangmy3\\AppData\\Local\\Continuum\\anaconda3\\lib\\site-packages\\skimage\\color\\colorconv.py:985: UserWarning: Color data out of range: Z < 0 in 1671 pixels\n",
      "  warn('Color data out of range: Z < 0 in %s pixels' % invalid[0].size)\n",
      "C:\\Users\\zhangmy3\\AppData\\Local\\Continuum\\anaconda3\\lib\\site-packages\\skimage\\util\\dtype.py:122: UserWarning: Possible precision loss when converting from float64 to uint8\n",
      "  .format(dtypeobj_in, dtypeobj_out))\n",
      "C:\\Users\\zhangmy3\\AppData\\Local\\Continuum\\anaconda3\\lib\\site-packages\\skimage\\util\\dtype.py:122: UserWarning: Possible precision loss when converting from float64 to uint16\n",
      "  .format(dtypeobj_in, dtypeobj_out))\n"
     ]
    }
   ],
   "source": [
    "\n",
    "output = model.predict(X)\n",
    "output *= 128\n",
    "# Output colorizations\n",
    "cur = np.zeros((256, 256, 3))\n",
    "cur[:,:,0] = X[0][:,:,0]\n",
    "cur[:,:,1:] = output[0]\n",
    "imsave(\"img_result.png\", lab2rgb(cur))\n",
    "imsave(\"img_gray_version.png\", rgb2gray(lab2rgb(cur)))\n"
   ]
  },
  {
   "cell_type": "code",
   "execution_count": 46,
   "metadata": {},
   "outputs": [
    {
     "name": "stderr",
     "output_type": "stream",
     "text": [
      "C:\\Users\\zhangmy3\\AppData\\Local\\Continuum\\anaconda3\\lib\\site-packages\\skimage\\util\\dtype.py:122: UserWarning: Possible precision loss when converting from float64 to uint8\n",
      "  .format(dtypeobj_in, dtypeobj_out))\n",
      "C:\\Users\\zhangmy3\\AppData\\Local\\Continuum\\anaconda3\\lib\\site-packages\\skimage\\color\\colorconv.py:985: UserWarning: Color data out of range: Z < 0 in 27 pixels\n",
      "  warn('Color data out of range: Z < 0 in %s pixels' % invalid[0].size)\n"
     ]
    }
   ],
   "source": [
    "\n",
    "\n",
    "\n",
    "\n"
   ]
  },
  {
   "cell_type": "code",
   "execution_count": 37,
   "metadata": {},
   "outputs": [],
   "source": []
  },
  {
   "cell_type": "code",
   "execution_count": 1,
   "metadata": {},
   "outputs": [
    {
     "ename": "AttributeError",
     "evalue": "module 'tensorflow' has no attribute 'device'",
     "output_type": "error",
     "traceback": [
      "\u001b[1;31m---------------------------------------------------------------------------\u001b[0m",
      "\u001b[1;31mAttributeError\u001b[0m                            Traceback (most recent call last)",
      "\u001b[1;32m<ipython-input-1-8a9179c79cd6>\u001b[0m in \u001b[0;36m<module>\u001b[1;34m()\u001b[0m\n\u001b[0;32m      1\u001b[0m \u001b[1;32mimport\u001b[0m \u001b[0mtensorflow\u001b[0m \u001b[1;32mas\u001b[0m \u001b[0mtf\u001b[0m\u001b[1;33m\u001b[0m\u001b[0m\n\u001b[0;32m      2\u001b[0m \u001b[1;33m\u001b[0m\u001b[0m\n\u001b[1;32m----> 3\u001b[1;33m \u001b[1;32mwith\u001b[0m \u001b[0mtf\u001b[0m\u001b[1;33m.\u001b[0m\u001b[0mdevice\u001b[0m\u001b[1;33m(\u001b[0m\u001b[1;34m'/cpu:0'\u001b[0m\u001b[1;33m)\u001b[0m\u001b[1;33m:\u001b[0m\u001b[1;33m\u001b[0m\u001b[0m\n\u001b[0m\u001b[0;32m      4\u001b[0m     \u001b[0ma\u001b[0m \u001b[1;33m=\u001b[0m \u001b[0mtf\u001b[0m\u001b[1;33m.\u001b[0m\u001b[0mconstant\u001b[0m\u001b[1;33m(\u001b[0m\u001b[1;33m[\u001b[0m\u001b[1;36m1.0\u001b[0m\u001b[1;33m,\u001b[0m\u001b[1;36m2.0\u001b[0m\u001b[1;33m,\u001b[0m\u001b[1;36m3.0\u001b[0m\u001b[1;33m]\u001b[0m\u001b[1;33m,\u001b[0m\u001b[0mshape\u001b[0m\u001b[1;33m=\u001b[0m\u001b[1;33m[\u001b[0m\u001b[1;36m3\u001b[0m\u001b[1;33m]\u001b[0m\u001b[1;33m,\u001b[0m\u001b[0mname\u001b[0m\u001b[1;33m=\u001b[0m\u001b[1;34m'a'\u001b[0m\u001b[1;33m)\u001b[0m\u001b[1;33m\u001b[0m\u001b[0m\n\u001b[0;32m      5\u001b[0m     \u001b[0mb\u001b[0m \u001b[1;33m=\u001b[0m \u001b[0mtf\u001b[0m\u001b[1;33m.\u001b[0m\u001b[0mconstant\u001b[0m\u001b[1;33m(\u001b[0m\u001b[1;33m[\u001b[0m\u001b[1;36m1.0\u001b[0m\u001b[1;33m,\u001b[0m\u001b[1;36m2.0\u001b[0m\u001b[1;33m,\u001b[0m\u001b[1;36m3.0\u001b[0m\u001b[1;33m]\u001b[0m\u001b[1;33m,\u001b[0m\u001b[0mshape\u001b[0m\u001b[1;33m=\u001b[0m\u001b[1;33m[\u001b[0m\u001b[1;36m3\u001b[0m\u001b[1;33m]\u001b[0m\u001b[1;33m,\u001b[0m\u001b[0mname\u001b[0m\u001b[1;33m=\u001b[0m\u001b[1;34m'b'\u001b[0m\u001b[1;33m)\u001b[0m\u001b[1;33m\u001b[0m\u001b[0m\n",
      "\u001b[1;31mAttributeError\u001b[0m: module 'tensorflow' has no attribute 'device'"
     ]
    }
   ],
   "source": []
  }
 ],
 "metadata": {
  "kernelspec": {
   "display_name": "Python 3",
   "language": "python",
   "name": "python3"
  },
  "language_info": {
   "codemirror_mode": {
    "name": "ipython",
    "version": 3
   },
   "file_extension": ".py",
   "mimetype": "text/x-python",
   "name": "python",
   "nbconvert_exporter": "python",
   "pygments_lexer": "ipython3",
   "version": "3.6.5"
  }
 },
 "nbformat": 4,
 "nbformat_minor": 2
}
