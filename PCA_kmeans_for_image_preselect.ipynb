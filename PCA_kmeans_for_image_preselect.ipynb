{
 "cells": [
  {
   "cell_type": "code",
   "execution_count": 1,
   "metadata": {},
   "outputs": [
    {
     "ename": "ModuleNotFoundError",
     "evalue": "No module named 'keras'",
     "output_type": "error",
     "traceback": [
      "\u001b[1;31m---------------------------------------------------------------------------\u001b[0m",
      "\u001b[1;31mModuleNotFoundError\u001b[0m                       Traceback (most recent call last)",
      "\u001b[1;32m<ipython-input-1-29d4cae937ca>\u001b[0m in \u001b[0;36m<module>\u001b[1;34m()\u001b[0m\n\u001b[1;32m----> 1\u001b[1;33m \u001b[1;32mfrom\u001b[0m \u001b[0mkeras\u001b[0m\u001b[1;33m.\u001b[0m\u001b[0mpreprocessing\u001b[0m\u001b[1;33m.\u001b[0m\u001b[0mimage\u001b[0m \u001b[1;32mimport\u001b[0m \u001b[0mimg_to_array\u001b[0m\u001b[1;33m,\u001b[0m \u001b[0mload_img\u001b[0m\u001b[1;33m\u001b[0m\u001b[0m\n\u001b[0m\u001b[0;32m      2\u001b[0m \u001b[1;32mimport\u001b[0m \u001b[0mnumpy\u001b[0m \u001b[1;32mas\u001b[0m \u001b[0mnp\u001b[0m\u001b[1;33m\u001b[0m\u001b[0m\n\u001b[0;32m      3\u001b[0m \u001b[1;32mimport\u001b[0m \u001b[0mpandas\u001b[0m \u001b[1;32mas\u001b[0m \u001b[0mpd\u001b[0m\u001b[1;33m\u001b[0m\u001b[0m\n\u001b[0;32m      4\u001b[0m \u001b[1;32mimport\u001b[0m \u001b[0mos\u001b[0m\u001b[1;33m\u001b[0m\u001b[0m\n\u001b[0;32m      5\u001b[0m \u001b[1;32mfrom\u001b[0m \u001b[0msklearn\u001b[0m\u001b[1;33m.\u001b[0m\u001b[0mdecomposition\u001b[0m \u001b[1;32mimport\u001b[0m \u001b[0mPCA\u001b[0m\u001b[1;33m\u001b[0m\u001b[0m\n",
      "\u001b[1;31mModuleNotFoundError\u001b[0m: No module named 'keras'"
     ]
    }
   ],
   "source": [
    "from keras.preprocessing.image import img_to_array, load_img\n",
    "import numpy as np\n",
    "import pandas as pd\n",
    "import os\n",
    "from sklearn.decomposition import PCA\n",
    "from sklearn.cluster import KMeans\n",
    "from sklearn.model_selection import train_test_split\n",
    "from PIL import Image \n",
    "import os.path"
   ]
  },
  {
   "cell_type": "markdown",
   "metadata": {},
   "source": [
    "Frist, create an array to record the pixels of each dot in one image\n",
    "$$\n",
    "  \\begin{matrix}\n",
    "   R & G & B \\\\\n",
    "   256 & 0 & 0 \\\\\n",
    "   34 & 68 & 68 \\\\\n",
    "   . & . & . \\\\\n",
    "   . & . & . \\\\\n",
    "   . & . & . \\\\\n",
    "  \\end{matrix} \n",
    "$$"
   ]
  },
  {
   "cell_type": "code",
   "execution_count": 2,
   "metadata": {},
   "outputs": [],
   "source": [
    "def image_to_array(img_file):\n",
    "    im = img_file\n",
    "    col, row = im.size\n",
    "    data = np.zeros((row * col, 5))\n",
    "    pixels = im.load()\n",
    "    for i in range(row):\n",
    "        for j in range(col):\n",
    "            r, g, b = pixels[i, j]\n",
    "            data[i * col + j, :] = r, g, b, i, j\n",
    "    return data"
   ]
  },
  {
   "cell_type": "markdown",
   "metadata": {},
   "source": [
    "Then, transform the RGB_array[color coloumn] above to a list with the length of $256 \\times 265=65536$.  \n",
    "For example data['red'] to a red_list with length of 65536  \n",
    "And get the red_list of all $n$ images we got, forming an array with the shape of $n\\times 65536$  \n",
    "Do the same procedure to green and blue"
   ]
  },
  {
   "cell_type": "code",
   "execution_count": 6,
   "metadata": {},
   "outputs": [],
   "source": [
    "def array_on_color():\n",
    "    R = []\n",
    "    G = []\n",
    "    B = []\n",
    "    path = '../images/full1/'\n",
    "    for filename in os.listdir(path):\n",
    "        im = Image.open(os.path.join(path, filename))\n",
    "        data = image_to_array(im)\n",
    "        R.append(data[:, 0])\n",
    "        G.append(data[:, 1])\n",
    "        B.append(data[:, 2])\n",
    "    red_arr = np.array(R).reshape(len(R), 256*256)\n",
    "    green_arr = np.array(G).reshape(len(G), 256*256)\n",
    "    blue_arr = np.array(B).reshape(len(B), 256*256)\n",
    "    return red_arr, green_arr, blue_arr"
   ]
  },
  {
   "cell_type": "markdown",
   "metadata": {},
   "source": [
    "Run PCA to each color array, got the frist PCA score of each image for each color. And finally use three PCA score of different colors to represent a picture.  \n",
    "Like:\n",
    "$$\n",
    "\\begin{matrix}\n",
    "   R & G & B \\\\\n",
    "   13.0 & 20.0 & 180.5 \\\\\n",
    "   34.7 & 99.3 & 200.3 \\\\\n",
    "   . & . & . \\\\\n",
    "   . & . & . \\\\\n",
    "   . & . & . \\\\\n",
    "\\end{matrix}\n",
    "$$"
   ]
  },
  {
   "cell_type": "code",
   "execution_count": 7,
   "metadata": {},
   "outputs": [],
   "source": [
    "def pca_on_color():\n",
    "    pca_score_list = []\n",
    "    for x in array_on_color():\n",
    "        pca = PCA(n_components=1)\n",
    "        x_pca = pca.fit_transform(x)\n",
    "        pca_score_list.append(x_pca)\n",
    "    print(pca_score_list)\n",
    "    pca_score_arr = np.array(pca_score_list)[:, :, 0]\n",
    "    print(pca_score_arr)\n",
    "    print(pca_score_arr.shape)\n",
    "    return pca_score_arr.T"
   ]
  },
  {
   "cell_type": "markdown",
   "metadata": {},
   "source": [
    "Run kmeans to cluster the images based on their pca_arr, which is created by the above function.  \n",
    "Store the cluster result in csv for further use."
   ]
  },
  {
   "cell_type": "code",
   "execution_count": 8,
   "metadata": {},
   "outputs": [],
   "source": [
    "def kmeans_on_pca_score():\n",
    "    # pca_score_arr = pca_on_color()\n",
    "    X = np.random.rand(360, 3)\n",
    "    kmeans = KMeans(n_clusters=5, random_state=0).fit(X)\n",
    "    df = pd.DataFrame({'r': X[:, 0], 'g': X[:, 1], 'b': X[:, 2], 'label': kmeans.labels_})\n",
    "    df1 = pd.DataFrame({'idx': df.index, 'group_label': df['label']})\n",
    "    path = '../images/group_result.csv'\n",
    "    df1.to_csv(path, index=False)"
   ]
  },
  {
   "cell_type": "markdown",
   "metadata": {},
   "source": [
    "Pick a group of image, divding the images in this group into tranning_set and test_set for CNN modeling and further validation."
   ]
  },
  {
   "cell_type": "code",
   "execution_count": 9,
   "metadata": {},
   "outputs": [],
   "source": [
    "def get_image(groupid=0):\n",
    "    image_list = pd.DataFrame(os.listdir('../images/full1/'))\n",
    "    path = '../images/group_result.csv'\n",
    "    df = pd.read_csv(path)\n",
    "    loc = df[df['group_label'] == groupid]['idx'].values\n",
    "    selected_list = np.array(image_list.loc[loc, :])[:, 0]\n",
    "    X = []\n",
    "    for filename in selected_list:\n",
    "        X.append(img_to_array(load_img('../images/full1/' + filename)))\n",
    "    image = np.array(X, dtype=float)\n",
    "    image_train, image_test = train_test_split(image, test_size=0.25, random_state=0)\n",
    "    return image_train, image_test"
   ]
  },
  {
   "cell_type": "code",
   "execution_count": null,
   "metadata": {},
   "outputs": [],
   "source": [
    "get_imgae(0)"
   ]
  }
 ],
 "metadata": {
  "kernelspec": {
   "display_name": "Python 3",
   "language": "python",
   "name": "python3"
  },
  "language_info": {
   "codemirror_mode": {
    "name": "ipython",
    "version": 3
   },
   "file_extension": ".py",
   "mimetype": "text/x-python",
   "name": "python",
   "nbconvert_exporter": "python",
   "pygments_lexer": "ipython3",
   "version": "3.6.4"
  }
 },
 "nbformat": 4,
 "nbformat_minor": 2
}
